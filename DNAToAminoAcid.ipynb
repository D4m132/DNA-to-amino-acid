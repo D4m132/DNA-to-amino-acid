{
 "cells": [
  {
   "cell_type": "markdown",
   "metadata": {},
   "source": [
    "Ce programme donne la transcription d'un brin d'ADN généré aléatoirement en ARNm, et donne la séquence peptidique issue de la traduction de cet ARNm."
   ]
  },
  {
   "cell_type": "code",
   "execution_count": null,
   "metadata": {},
   "outputs": [],
   "source": [
    "%pylab --no-import-all inline"
   ]
  },
  {
   "cell_type": "code",
   "execution_count": null,
   "metadata": {},
   "outputs": [],
   "source": [
    "baseADN = [\"A\", \"T\", \"G\", \"C\"]\n",
    "baseARN = [\"A\", \"U\", \"G\", \"C\"]\n",
    "stop = [\"TAA\", \"TAG\", \"TGA\"]\n",
    "stopARN = [\"UAA\", \"UAG\", \"UGA\"]"
   ]
  },
  {
   "cell_type": "markdown",
   "metadata": {},
   "source": [
    "La fonction genBrins() génère un brin d'ADN d'une longueur donnée (par défaut 9 nucléotides).\n",
    "Cette méthode peut également générer un brin d'ARNm."
   ]
  },
  {
   "cell_type": "code",
   "execution_count": null,
   "metadata": {},
   "outputs": [],
   "source": [
    "def genBrins(nbases = 9, typ = \"ADN\"):\n",
    "    if typ == \"ADN\":\n",
    "        bases = baseADN\n",
    "    elif typ == \"ARN\":\n",
    "        bases = baseARN\n",
    "    else:\n",
    "        raise ValueError(\"typ doit être 'ARN' ou 'ADN', typ = %s\" % typ)\n",
    "    \n",
    "    fragment = \"\".join([bases[np.random.randint(0, 4)] for i in range(nbases - nbases % 3)])\n",
    "    \n",
    "    if typ == \"ADN\":\n",
    "        stopBase = stop\n",
    "    elif typ == \"ARN\":\n",
    "        stopBase = stopARN\n",
    "    \n",
    "    codonStop = stopBase[np.random.randint(0, 2)]\n",
    "    \n",
    "    fragment = fragment[:-3] + codonStop\n",
    "    \n",
    "    return fragment"
   ]
  },
  {
   "cell_type": "markdown",
   "metadata": {},
   "source": [
    "Pour changer la longueur insérez un nombre (un multiple de 3), ce sera le nombre de nucléotides généré.\n",
    "\n",
    "Pour générer un brin d'ARNm, insérez le nombre de nucléotides souhaité puis écrivez \"ARN\" comme montré ci-dessous."
   ]
  },
  {
   "cell_type": "code",
   "execution_count": null,
   "metadata": {},
   "outputs": [],
   "source": [
    "brin = genBrins(12, \"ARN\")\n",
    "print(brin)"
   ]
  },
  {
   "cell_type": "markdown",
   "metadata": {},
   "source": [
    "La fonction transcription() transcrit un brin d'ADN en un brin d'ARNm."
   ]
  },
  {
   "cell_type": "code",
   "execution_count": null,
   "metadata": {},
   "outputs": [],
   "source": [
    "def transcription(fragment):\n",
    "    return fragment.replace(\"T\", \"U\")"
   ]
  },
  {
   "cell_type": "markdown",
   "metadata": {},
   "source": [
    "Si vous voulez transcrire votre morceau d'ADN en ARNm, remplacez 'transcription(adn)' par 'transcription(\"votre ADN\")'.\n",
    "\n",
    "P.S. mettez bien les guillemets dans les parenthèses."
   ]
  },
  {
   "cell_type": "code",
   "execution_count": null,
   "metadata": {},
   "outputs": [],
   "source": [
    "adn = genBrins(21)\n",
    "print(adn)\n",
    "arn = transcription(adn)\n",
    "print(arn)"
   ]
  },
  {
   "cell_type": "code",
   "execution_count": null,
   "metadata": {},
   "outputs": [],
   "source": [
    "codeGenetique = {\"Leu\": [\"UUA\", \"UUG\", \"CUU\", \"CUC\", \"CUA\", \"CUG\"], \n",
    "                \"Phe\": [\"UUU\", \"UUC\"], \n",
    "                \"Ile\": [\"AUU\", \"AUC\", \"AUA\"], \n",
    "                \"Met\": [\"AUG\"], \n",
    "                \"Val\": [\"GUU\", \"GUC\", \"GUA\", \"GUG\"], \n",
    "                \"Ser\": [\"UCU\", \"UCC\", \"UCA\", \"UCG\", \"AGU\", \"AGC\"], \n",
    "                \"Pro\": [\"CCU\", \"CCC\", \"CCA\", \"CCG\"], \n",
    "                \"Thr\": [\"ACU\", \"ACC\", \"ACA\", \"ACG\"], \n",
    "                \"Ala\": [\"GCU\", \"GCC\", \"GCA\", \"GCG\"], \n",
    "                \"Tyr\": [\"UAU\", \"UAC\"], \n",
    "                \"STOP\": [\"UAA\", \"UAG\", \"UGA\"], \n",
    "                \"His\": [\"CAU\", \"CAC\"], \n",
    "                \"Gln\": [\"CAA\", \"CAG\"], \n",
    "                \"Asn\": [\"AAU\", \"AAC\"], \n",
    "                \"Lys\": [\"AAA\", \"AAG\"], \n",
    "                \"Asp\": [\"GAU\", \"GAC\"], \n",
    "                \"Glu\": [\"GAA\", \"GAG\"], \n",
    "                \"Cys\": [\"UGU\", \"UGC\"], \n",
    "                \"Trp\": [\"UGG\"], \n",
    "                \"Arg\": [\"CGU\", \"CGC\", \"CGA\", \"CGG\", \"AGA\", \"AGG\"], \n",
    "                \"Gly\": [\"GGU\", \"GGC\", \"GGA\", \"GGG\"]}"
   ]
  },
  {
   "cell_type": "markdown",
   "metadata": {},
   "source": [
    "La fonction codonToAA() traduit un codon en un acide aminé."
   ]
  },
  {
   "cell_type": "code",
   "execution_count": null,
   "metadata": {},
   "outputs": [],
   "source": [
    "def codonToAA(codon):\n",
    "    acideAmine = None\n",
    "    identify = False\n",
    "    for aa, codons in codeGenetique.items():\n",
    "        if codon in codons:\n",
    "            acideAmine = aa\n",
    "            identify = True\n",
    "            break\n",
    "    if not identify:\n",
    "        raise ValueError(\"ERREUR : codon '%s' non identifié\" % codon)\n",
    "        \n",
    "    return acideAmine"
   ]
  },
  {
   "cell_type": "code",
   "execution_count": null,
   "metadata": {},
   "outputs": [],
   "source": [
    "print(codonToAA(\"GGG\"))"
   ]
  },
  {
   "cell_type": "markdown",
   "metadata": {},
   "source": [
    "La fonction traduction() traduit un brin d'ARNm en une ou plusieurs séquences peptidiques."
   ]
  },
  {
   "cell_type": "code",
   "execution_count": null,
   "metadata": {},
   "outputs": [],
   "source": [
    "def find_nth(haystack, needle, n):\n",
    "    start = haystack.find(needle)\n",
    "    while start >= 0 and n > 1:\n",
    "        start = haystack.find(needle, start+len(needle))\n",
    "        n -= 1\n",
    "    return start\n",
    "\n",
    "def traduction(fragment): \n",
    "    i = 1\n",
    "    sequence = \"\"\n",
    "    n = 0\n",
    "    codonStart = fragment[fragment.find(\"AUG\")::]\n",
    "    nbCodons = len(codonStart) // 3\n",
    "    while n < nbCodons:\n",
    "        codonStart = codonStart[codonStart.find(\"AUG\")::]\n",
    "        aa = codonToAA(codonStart[3*n: 3*n+3])\n",
    "        if aa != \"STOP\":\n",
    "            sequence += aa + \"-\"\n",
    "            n += 1\n",
    "        else: \n",
    "            sequence += aa\n",
    "            sequence += \"\\n\"\n",
    "            n = 0\n",
    "            i += 1\n",
    "            codonStart = codonStart[find_nth(codonStart, \"AUG\", i)::]\n",
    "            nbCodons = len(codonStart) // 3\n",
    "\n",
    "    return sequence"
   ]
  },
  {
   "cell_type": "markdown",
   "metadata": {},
   "source": [
    "Si vous voulez traduire votre morceau d'ARNm, remplacez 'traduction(arn)' par 'traduction(\"votre ARNm\")'\n",
    "\n",
    "P.S. mettez bien les guillemets dans les parenthèses."
   ]
  },
  {
   "cell_type": "code",
   "execution_count": null,
   "metadata": {},
   "outputs": [],
   "source": [
    "arn = genBrins(204, \"ARN\")\n",
    "print(arn)\n",
    "sequence = traduction(arn)\n",
    "print(sequence)"
   ]
  }
 ],
 "metadata": {
  "kernelspec": {
   "display_name": "Python 3",
   "language": "python",
   "name": "python3"
  },
  "language_info": {
   "codemirror_mode": {
    "name": "ipython",
    "version": 3
   },
   "file_extension": ".py",
   "mimetype": "text/x-python",
   "name": "python",
   "nbconvert_exporter": "python",
   "pygments_lexer": "ipython3",
   "version": "3.6.4"
  }
 },
 "nbformat": 4,
 "nbformat_minor": 2
}
